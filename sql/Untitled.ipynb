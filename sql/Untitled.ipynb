{
 "cells": [
  {
   "cell_type": "markdown",
   "metadata": {},
   "source": [
    "# Introducción a SQL"
   ]
  },
  {
   "cell_type": "markdown",
   "metadata": {},
   "source": [
    "### 1.\tAbrir Microsoft SQL Server\n",
    "•\tEn el buscador ingresamos “SQL Server 2014 Management Studio”\n"
   ]
  },
  {
   "cell_type": "markdown",
   "metadata": {},
   "source": [
    "<img src=\"fotos/1.png\" style=\"width:500px;height:500px;\" >"
   ]
  },
  {
   "cell_type": "markdown",
   "metadata": {},
   "source": [
    "•\tVerificamos que en la ventana emergente estén seleccionadas las opciones “Motor de base de datos” y “Autenticación de Windows”. No debemos ingresar ni usuario ni clave. Damos click en “Conectar”."
   ]
  },
  {
   "cell_type": "markdown",
   "metadata": {},
   "source": [
    "<img src=\"fotos/2.png\" style=\"width:500px;height:500px;\" >"
   ]
  },
  {
   "cell_type": "markdown",
   "metadata": {},
   "source": [
    "•\tSi procedimos de manera correcta, debería verse de la siguiente manera. Si detectamos algún problema, pasar al acápite “En caso de error”, al final de esta sección."
   ]
  },
  {
   "cell_type": "markdown",
   "metadata": {},
   "source": [
    "<img src=\"fotos/3.png\" style=\"width:500px;height:500px;\" >"
   ]
  },
  {
   "cell_type": "markdown",
   "metadata": {},
   "source": [
    "•\tDe ahora en adelante, cada vez que trabajemos en SQL, debemos abrir el espacio de trabajo “Nueva consulta”. Cuando queramos ejecutar las sentencias, damos click a “Ejecutar”. Nota: Este botón ejecuta todas las sentencias, para ejecutar solo una parte de las sentencias se deberá seleccionar las sentencias debidas.\n"
   ]
  },
  {
   "cell_type": "markdown",
   "metadata": {},
   "source": [
    "<img src=\"fotos/4.png\" style=\"width:500px;height:500px;\" >"
   ]
  },
  {
   "cell_type": "markdown",
   "metadata": {},
   "source": [
    "•\tPara guardar las consultas, nos dirigimos a Archivo > Guardar [nombre].sql como…"
   ]
  },
  {
   "cell_type": "markdown",
   "metadata": {},
   "source": [
    "<img src=\"fotos/5.png\" style=\"width:500px;height:500px;\" >"
   ]
  },
  {
   "cell_type": "markdown",
   "metadata": {},
   "source": [
    "En caso de error:\n",
    "•\tPuede que se haya procedido de manera correcta y aun así aparezca un mensaje de error como el siguiente."
   ]
  },
  {
   "cell_type": "markdown",
   "metadata": {},
   "source": [
    "<img src=\"fotos/6.png\" style=\"width:500px;height:500px;\" >"
   ]
  },
  {
   "cell_type": "markdown",
   "metadata": {},
   "source": [
    "•\tPara solucionarlo, nos dirigimos al Administrador de Tareas (Ctrl+Alt+Supr), vamos a la pestaña “Servicios”, damos click derecho en MSSQL$SQLEXPRESS o el nombre con el que no se pudo ingresar, damos click a “Iniciar”. Una vez que el estado sea “En ejecución”, abrimos de nuevo SQL, siguiendo los pasos anteriores."
   ]
  },
  {
   "cell_type": "markdown",
   "metadata": {},
   "source": [
    "<img src=\"fotos/7.png\" style=\"width:500px;height:500px;\" >"
   ]
  },
  {
   "cell_type": "code",
   "execution_count": null,
   "metadata": {},
   "outputs": [],
   "source": []
  },
  {
   "cell_type": "code",
   "execution_count": null,
   "metadata": {},
   "outputs": [],
   "source": []
  }
 ],
 "metadata": {
  "kernelspec": {
   "display_name": "Python 3",
   "language": "python",
   "name": "python3"
  },
  "language_info": {
   "codemirror_mode": {
    "name": "ipython",
    "version": 3
   },
   "file_extension": ".py",
   "mimetype": "text/x-python",
   "name": "python",
   "nbconvert_exporter": "python",
   "pygments_lexer": "ipython3",
   "version": "3.7.6"
  }
 },
 "nbformat": 4,
 "nbformat_minor": 4
}
