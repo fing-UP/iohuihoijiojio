{
 "cells": [
  {
   "cell_type": "markdown",
   "metadata": {},
   "source": [
    "# Introducción a SQL"
   ]
  },
  {
   "cell_type": "markdown",
   "metadata": {},
   "source": [
    "### 1.\tAbrir Microsoft SQL Server\n",
    "•\tEn el buscador ingresamos “SQL Server 2014 Management Studio”\n"
   ]
  },
  {
   "cell_type": "markdown",
   "metadata": {},
   "source": [
    "<img src=\"fotos/1.png\" style=\"width:300px;\" >"
   ]
  },
  {
   "cell_type": "markdown",
   "metadata": {},
   "source": [
    "•\tVerificamos que en la ventana emergente estén seleccionadas las opciones “Motor de base de datos” y “Autenticación de Windows”. No debemos ingresar ni usuario ni clave. Damos click en “Conectar”."
   ]
  },
  {
   "cell_type": "markdown",
   "metadata": {},
   "source": [
    "<img src=\"fotos/2.png\" style=\"width:400px;\" >"
   ]
  },
  {
   "cell_type": "markdown",
   "metadata": {},
   "source": [
    "•\tSi procedimos de manera correcta, debería verse de la siguiente manera. Si detectamos algún problema, pasar al acápite “En caso de error”, al final de esta sección."
   ]
  },
  {
   "cell_type": "markdown",
   "metadata": {},
   "source": [
    "<img src=\"fotos/3.png\" style=\"width:500px;\" >"
   ]
  },
  {
   "cell_type": "markdown",
   "metadata": {},
   "source": [
    "•\tDe ahora en adelante, cada vez que trabajemos en SQL, debemos abrir el espacio de trabajo “Nueva consulta”. Cuando queramos ejecutar las sentencias, damos click a “Ejecutar”. Nota: Este botón ejecuta todas las sentencias, para ejecutar solo una parte de las sentencias se deberá seleccionar las sentencias debidas.\n"
   ]
  },
  {
   "cell_type": "markdown",
   "metadata": {},
   "source": [
    "<img src=\"fotos/4.png\" style=\"width:500px\" >"
   ]
  },
  {
   "cell_type": "markdown",
   "metadata": {},
   "source": [
    "•\tPara guardar las consultas, nos dirigimos a Archivo > Guardar [nombre].sql como…"
   ]
  },
  {
   "cell_type": "markdown",
   "metadata": {},
   "source": [
    "<img src=\"fotos/5.png\" style=\"width:500px;\" >"
   ]
  },
  {
   "cell_type": "markdown",
   "metadata": {},
   "source": [
    "En caso de error:\n",
    "•\tPuede que se haya procedido de manera correcta y aun así aparezca un mensaje de error como el siguiente."
   ]
  },
  {
   "cell_type": "markdown",
   "metadata": {},
   "source": [
    "<img src=\"fotos/6.png\" style=\"width:500px;\" >"
   ]
  },
  {
   "cell_type": "markdown",
   "metadata": {},
   "source": [
    "•\tPara solucionarlo, nos dirigimos al Administrador de Tareas (Ctrl+Alt+Supr), vamos a la pestaña “Servicios”, damos click derecho en MSSQL$SQLEXPRESS o el nombre con el que no se pudo ingresar, damos click a “Iniciar”. Una vez que el estado sea “En ejecución”, abrimos de nuevo SQL, siguiendo los pasos anteriores."
   ]
  },
  {
   "cell_type": "markdown",
   "metadata": {},
   "source": [
    "<img src=\"fotos/7.png\" style=\"width:600px;\" >"
   ]
  },
  {
   "cell_type": "markdown",
   "metadata": {},
   "source": [
    "### 2.\tCrear Diagramas de Bases de Datos\n",
    "\n",
    "•\tDamos click derecho en “Base de Datos”, seleccionamos “Nueva base de datos…”\n",
    "\n",
    "   <img src=\"fotos/8.png\" style=\"width:600px;\" >\n",
    "\n",
    "•\tAsignamos un nombre a la base de datos, damos click a “Aceptar”.\n",
    "\n",
    "   <img src=\"fotos/9.png\" style=\"width:600px;\" >\n",
    "\n",
    "•\tLa base de datos se actualiza automáticamente, y muestra la base de datos creada. De no ser así, damos click derecho en “Base de datos” y seleccionamos “Actualizar”.\n",
    "\n",
    "   <img src=\"fotos/10.png\" style=\"width:600px;\" >\n",
    "\n",
    "•\tNos ubicamos en nuestra base de datos, expand imos y damos click derecho en “Diagramas de base de datos”, seleccionamos “Nuevo diagrama de base de datos”.\n",
    "\n",
    "   <img src=\"fotos/11.png\" style=\"width:600px;\" >\n",
    "\n",
    "•\tNos aparecerá una ventana emergente de consulta, aceptamos. Posteriormente nos aparecerá un recuadro “Agregar tabla”, no necesitamos modificar nada allí, lo cerramos. Comenzamos a trabajar en el espacio en blanco.\n",
    "\n",
    "   <img src=\"fotos/12.png\" style=\"width:600px;\" >\n",
    "\n",
    "•\tCaso: Replicaremos el diagrama de la base de datos de Northwind, que requiere de 13 tablas (Employees, EmployeeTerritories, Territories, Region, Orders, Shippers, Customers, CustomerCustomerDemo, CustomerDemographics, OrderDetails, Products, Categories, Suppliers), y presenta relaciones 1:M, 1:M, N:M, entre otros tópicos aprendidos en clase.\n",
    "\n",
    "   <img src=\"fotos/13.png\" style=\"width:600px;\" >\n",
    " \n",
    "\n",
    "•\tEn el espacio de trabajo, dar click derecho y seleccionar “Nueva tabla…”\n",
    " \n",
    "   <img src=\"fotos/14.png\" style=\"width:600px;\" >\n",
    "\n",
    "•\tComenzamos creando la tabla Orders, para lo cual ingresamos el nombre y aceptamos. Luego, completamos con todos los atributos y con los tipos de datos respectivos. Nota: Los tipos serán útiles para las sentencias (punto 4), para entenerlos ver Anexo 1.\n",
    "\n",
    "   <img src=\"fotos/15.png\" style=\"width:600px;\" >\n",
    " \n",
    "\n",
    "•\tPara asignar la clave principal, nos ubicamos en el atributo respectivo y damos click derecho. Seleccionamos “Establecer clave principal”. Luego, verificamos que haya el símbolo de una llave dorada vertical.\n",
    " \n",
    "   <img src=\"fotos/16.png\" style=\"width:600px;\" >\n",
    " \n",
    "•\tProcedemos de la misma manera que en los 3 puntos anteriores, y creamos las tablas Suppliers, Products y Order Details.\n",
    "\n",
    "   <img src=\"fotos/17.png\" style=\"width:600px;\" >\n",
    "\n",
    "•\tPara asignar una clave foránea, damos click sobre la llave (símbolo) de la clave principal de la tabla respectiva y arrastramos sin soltar hasta la clave foránea de la tabla respectiva. En este caso, arrastraremos desde “SupplierID” (clave principal) de la tabla “Suppliers” hasta “SupplierID” (clave foránea) de la tabla Products. Debe quedar como en la imagen, será necesario corroborar los pasos que se encuentran a continuación:\n",
    "\n",
    "   <img src=\"fotos/18.png\" style=\"width:600px;\" > \n",
    "\n",
    "•\tPaso 1: Escoger las tablas que serán relacionadas, tanto la que contiene la clave como principal y la que la contiene como foránea.\n",
    "\n",
    "   <img src=\"fotos/19.png\" style=\"width:600px;\" >\n",
    "\n",
    "•\tPaso 2: Escoger las claves principal y foránea, según corresponda la tabla.\n",
    "\n",
    "   <img src=\"fotos/20.png\" style=\"width:600px;\" >\t\t\t \n",
    "\n",
    "•\tPaso 3: Con los 2 pasos anteriores ya creamos la relación, solo nos queda dar click en “Aceptar” en la ventana de confirmación de la relación creada.\n",
    "\n",
    "   <img src=\"fotos/21.png\" style=\"width:600px;\" >\n",
    "\n",
    "•\tEl resultado final debe ser el de la imagen. Notemos que al final de la relación tenemos 2 símbolos, una llave y un infinito, ellos simbolizan la relación 1:M. Después, creamos las relaciones restantes.\n",
    " \n",
    "\n",
    "   <img src=\"fotos/22.png\" style=\"width:600px;\" >\n",
    " \n",
    "\n",
    "•\tCon las tablas de nuestra base de datos completas, ya se encuentra lista para guardarla en SQL. Nos posicionamos sobre el nombre de nuestra hoja de trabajo y damos click derecho, seleccionamos “Guardar…”.\n",
    "\n",
    "   <img src=\"fotos/23.png\" style=\"width:600px;\" >\n",
    "\n",
    "•\tEscogemos un nombre que sugiera la relación del diagrama, así cuando tengamos varios nos podremos dirigir fácilmente a él. Aceptamos.\n",
    "\n",
    "   <img src=\"fotos/24.png\" style=\"width:600px;\" >\n",
    "\n",
    "•\tDamos click en “Sí”, para que se procedan a guardar las tablas que creamos dentro de nuestra base de datos.\n",
    "\n",
    "   <img src=\"fotos/25.png\" style=\"width:600px;\" >\n",
    "\n",
    "•\tNos dirigimos a nuestra base de datos, en este caso es “ComerciosUP”. Desplegamos la carpeta “Diagramas de base de datos”. Encontraremos nuestro diagrama con el nombre que escogimos en el punto anterior. Ahora, desplegamos la carpeta “Tablas” y verificamos que se hayan creado las tablas del diagrama.\n",
    "\n",
    "   <img src=\"fotos/26.png\" style=\"width:600px;\" >\n",
    "\n",
    " \n",
    "\n",
    "\n",
    "\n",
    "\n",
    "\n",
    "\n",
    "\n",
    "\n",
    "\n",
    "\n",
    "\n",
    "\n"
   ]
  },
  {
   "cell_type": "code",
   "execution_count": null,
   "metadata": {},
   "outputs": [],
   "source": []
  }
 ],
 "metadata": {
  "kernelspec": {
   "display_name": "Python 3",
   "language": "python",
   "name": "python3"
  },
  "language_info": {
   "codemirror_mode": {
    "name": "ipython",
    "version": 3
   },
   "file_extension": ".py",
   "mimetype": "text/x-python",
   "name": "python",
   "nbconvert_exporter": "python",
   "pygments_lexer": "ipython3",
   "version": "3.7.6"
  }
 },
 "nbformat": 4,
 "nbformat_minor": 4
}
